{
 "cells": [
  {
   "cell_type": "code",
   "execution_count": null,
   "id": "0cda08cb",
   "metadata": {},
   "outputs": [],
   "source": [
    "#gerekli kütüphaneleri indiriyoruz\n",
    "%pip install pandas scikit-learn\n",
    "%pip install matplotlib"
   ]
  },
  {
   "cell_type": "code",
   "execution_count": null,
   "id": "605f1926",
   "metadata": {},
   "outputs": [],
   "source": [
    "#test ve train setlerimizi import ediyoruz\n",
    "import pandas as pd\n",
    "from sklearn.model_selection import train_test_split\n",
    "\n",
    "train = pd.read_csv(\"evler-train.csv\")\n",
    "test = pd.read_csv(\"evler-test.csv\")"
   ]
  },
  {
   "cell_type": "markdown",
   "id": "745a978f",
   "metadata": {},
   "source": [
    "Verilerin yapısı \"evNo,fiyat,brutM2,netM2,oda,salon,yas,kat,katMaks,dogalGaz,banyo,amerikan,balkon,asansor,otopark,esya,siteMi,aidat,guneyMi\" şeklinde."
   ]
  },
  {
   "cell_type": "code",
   "execution_count": null,
   "id": "f9ed35a6",
   "metadata": {},
   "outputs": [],
   "source": [
    "#4 farklı regresyon modeli deniyoruz\n",
    "from sklearn.linear_model import LinearRegression\n",
    "from sklearn.tree import DecisionTreeRegressor\n",
    "from sklearn.ensemble import RandomForestRegressor\n",
    "from sklearn.svm import SVR"
   ]
  },
  {
   "cell_type": "code",
   "execution_count": null,
   "id": "6f3e145f",
   "metadata": {},
   "outputs": [],
   "source": [
    "#lineer regresyon modeli\n",
    "lr_model = LinearRegression()\n",
    "lr_model.fit(train.drop(columns=[\"fiyat\", \"evNo\"]), train[\"fiyat\"])\n",
    "lr_predictions = lr_model.predict(test.drop(columns=[\"fiyat\", \"evNo\"]))"
   ]
  },
  {
   "cell_type": "code",
   "execution_count": null,
   "id": "040ce96f",
   "metadata": {},
   "outputs": [],
   "source": [
    "#DecisionTreeRegressor modeli\n",
    "dt_model = DecisionTreeRegressor()\n",
    "dt_model.fit(train.drop(columns=[\"fiyat\", \"evNo\"]), train[\"fiyat\"])\n",
    "dt_predictions = dt_model.predict(test.drop(columns=[\"fiyat\", \"evNo\"]))"
   ]
  },
  {
   "cell_type": "code",
   "execution_count": null,
   "id": "f7482823",
   "metadata": {},
   "outputs": [],
   "source": [
    "#RandomForestRegressor modeli\n",
    "rf_model = RandomForestRegressor()\n",
    "rf_model.fit(train.drop(columns=[\"fiyat\", \"evNo\"]), train[\"fiyat\"])\n",
    "rf_predictions = rf_model.predict(test.drop(columns=[\"fiyat\", \"evNo\"]))"
   ]
  },
  {
   "cell_type": "code",
   "execution_count": null,
   "id": "f3dec2dc",
   "metadata": {},
   "outputs": [],
   "source": [
    "#SVR modeli\n",
    "svr_model = SVR()\n",
    "svr_model.fit(train.drop(columns=[\"fiyat\", \"evNo\"]), train[\"fiyat\"])\n",
    "svr_predictions = svr_model.predict(test.drop(columns=[\"fiyat\", \"evNo\"]))"
   ]
  },
  {
   "cell_type": "code",
   "execution_count": null,
   "id": "b1dbcddd",
   "metadata": {},
   "outputs": [],
   "source": [
    "#4 farklı metrik ile modellerimizi değerlendiriyoruz\n",
    "from sklearn.metrics import mean_absolute_error, mean_squared_error, r2_score, median_absolute_error\n",
    "def evaluate_model(true_values, predictions):\n",
    "    mae = mean_absolute_error(true_values, predictions)\n",
    "    mse = mean_squared_error(true_values, predictions)\n",
    "    r2 = r2_score(true_values, predictions)\n",
    "    medae = median_absolute_error(true_values, predictions)\n",
    "    return {\"MAE\": mae, \"MSE\": mse, \"R2\": r2, \"MedAE\": medae}\n",
    "lr_results = evaluate_model(test[\"fiyat\"], lr_predictions)\n",
    "print(\"Linear Regression Results:\", lr_results)\n",
    "dt_results = evaluate_model(test[\"fiyat\"], dt_predictions)\n",
    "print(\"Decision Tree Results:\", dt_results)\n",
    "rf_results = evaluate_model(test[\"fiyat\"], rf_predictions)\n",
    "print(\"Random Forest Results:\", rf_results)\n",
    "svr_results = evaluate_model(test[\"fiyat\"], svr_predictions)\n",
    "print(\"SVR Results:\", svr_results)"
   ]
  },
  {
   "cell_type": "code",
   "execution_count": null,
   "id": "472e389c",
   "metadata": {},
   "outputs": [],
   "source": [
    "#sonuçları görselleştiriyoruz\n",
    "import matplotlib.pyplot as plt\n",
    "\n",
    "plt.figure(figsize=(12, 6))\n",
    "plt.plot(test[\"fiyat\"].values, label=\"Gerçek Fiyatlar\", color=\"blue\")\n",
    "plt.plot(lr_predictions, label=\"LR Tahminleri\", color=\"red\")\n",
    "plt.plot(dt_predictions, label=\"DT Tahminleri\", color=\"green\")\n",
    "plt.plot(rf_predictions, label=\"RF Tahminleri\", color=\"orange\")\n",
    "plt.plot(svr_predictions, label=\"SVR Tahminleri\", color=\"purple\")\n",
    "plt.title(\"Gerçek ve Tahmin Edilen Fiyatlar\")\n",
    "plt.xlabel(\"Örnekler\")\n",
    "plt.ylabel(\"Fiyat\")\n",
    "plt.legend()\n",
    "plt.show()"
   ]
  },
  {
   "cell_type": "code",
   "execution_count": null,
   "id": "1d8979a6",
   "metadata": {},
   "outputs": [],
   "source": [
    "#sonuçları karşılaştırarak en iyi modeli seçiyoruz\n",
    "results = {\n",
    "    \"Linear Regression\": lr_results,\n",
    "    \"Decision Tree\": dt_results,\n",
    "    \"Random Forest\": rf_results,\n",
    "    \"SVR\": svr_results\n",
    "}\n",
    "best_model = min(results, key=lambda x: results[x][\"MAE\"])\n",
    "print(\"En İyi Model:\", best_model, \"with MAE:\", results[best_model][\"MAE\"])"
   ]
  }
 ],
 "metadata": {
  "kernelspec": {
   "display_name": "Python 3",
   "language": "python",
   "name": "python3"
  },
  "language_info": {
   "codemirror_mode": {
    "name": "ipython",
    "version": 3
   },
   "file_extension": ".py",
   "mimetype": "text/x-python",
   "name": "python",
   "nbconvert_exporter": "python",
   "pygments_lexer": "ipython3",
   "version": "3.13.7"
  }
 },
 "nbformat": 4,
 "nbformat_minor": 5
}
