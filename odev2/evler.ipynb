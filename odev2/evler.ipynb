{
 "cells": [
  {
   "cell_type": "code",
   "execution_count": null,
   "id": "0cda08cb",
   "metadata": {},
   "outputs": [],
   "source": [
    "#gerekli kütüphaneleri indiriyoruz\n",
    "%pip install pandas scikit-learn\n",
    "%pip install matplotlib\n",
    "%pip install numpy"
   ]
  },
  {
   "cell_type": "code",
   "execution_count": null,
   "id": "605f1926",
   "metadata": {},
   "outputs": [],
   "source": [
    "#test ve train setlerimizi import ediyoruz\n",
    "import numpy as np\n",
    "import pandas as pd\n",
    "import matplotlib.pyplot as plt\n",
    "from sklearn.model_selection import train_test_split\n",
    "\n",
    "train = pd.read_csv(\"evler-train.csv\")\n",
    "test = pd.read_csv(\"evler-test.csv\")"
   ]
  },
  {
   "cell_type": "markdown",
   "id": "745a978f",
   "metadata": {},
   "source": [
    "Verilerin yapısı \"evNo,fiyat,brutM2,netM2,oda,salon,yas,kat,katMaks,dogalGaz,banyo,amerikan,balkon,asansor,otopark,esya,siteMi,aidat,guneyMi\" şeklinde."
   ]
  },
  {
   "cell_type": "code",
   "execution_count": null,
   "id": "f9ed35a6",
   "metadata": {},
   "outputs": [],
   "source": [
    "#4 farklı regresyon modeli deniyoruz\n",
    "from sklearn.linear_model import LinearRegression\n",
    "from sklearn.tree import DecisionTreeRegressor\n",
    "from sklearn.ensemble import RandomForestRegressor\n",
    "from sklearn.svm import SVR"
   ]
  },
  {
   "cell_type": "code",
   "execution_count": null,
   "id": "6f3e145f",
   "metadata": {},
   "outputs": [],
   "source": [
    "#lineer regresyon modeli\n",
    "lr_model = LinearRegression()\n",
    "lr_model.fit(train.drop(columns=[\"fiyat\", \"evNo\"]), train[\"fiyat\"])\n",
    "lr_predictions = lr_model.predict(test.drop(columns=[\"fiyat\", \"evNo\"]))"
   ]
  },
  {
   "cell_type": "code",
   "execution_count": null,
   "id": "040ce96f",
   "metadata": {},
   "outputs": [],
   "source": [
    "#DecisionTreeRegressor modeli\n",
    "dt_model = DecisionTreeRegressor()\n",
    "dt_model.fit(train.drop(columns=[\"fiyat\", \"evNo\"]), train[\"fiyat\"])\n",
    "dt_predictions = dt_model.predict(test.drop(columns=[\"fiyat\", \"evNo\"]))"
   ]
  },
  {
   "cell_type": "code",
   "execution_count": null,
   "id": "f7482823",
   "metadata": {},
   "outputs": [],
   "source": [
    "#RandomForestRegressor modeli\n",
    "rf_model = RandomForestRegressor()\n",
    "rf_model.fit(train.drop(columns=[\"fiyat\", \"evNo\"]), train[\"fiyat\"])\n",
    "rf_predictions = rf_model.predict(test.drop(columns=[\"fiyat\", \"evNo\"]))"
   ]
  },
  {
   "cell_type": "code",
   "execution_count": null,
   "id": "f3dec2dc",
   "metadata": {},
   "outputs": [],
   "source": [
    "#SVR modeli\n",
    "svr_model = SVR()\n",
    "svr_model.fit(train.drop(columns=[\"fiyat\", \"evNo\"]), train[\"fiyat\"])\n",
    "svr_predictions = svr_model.predict(test.drop(columns=[\"fiyat\", \"evNo\"]))"
   ]
  },
  {
   "cell_type": "code",
   "execution_count": null,
   "id": "b1dbcddd",
   "metadata": {},
   "outputs": [],
   "source": [
    "#4 farklı metrik ile modellerimizi değerlendiriyoruz\n",
    "from sklearn.metrics import mean_absolute_error, mean_squared_error, r2_score, median_absolute_error\n",
    "def evaluate_model(true_values, predictions):\n",
    "    mae = mean_absolute_error(true_values, predictions)\n",
    "    mse = mean_squared_error(true_values, predictions)\n",
    "    r2 = r2_score(true_values, predictions)\n",
    "    medae = median_absolute_error(true_values, predictions)\n",
    "    return {\"MAE\": mae, \"MSE\": mse, \"R2\": r2, \"MedAE\": medae}\n",
    "lr_results = evaluate_model(test[\"fiyat\"], lr_predictions)\n",
    "dt_results = evaluate_model(test[\"fiyat\"], dt_predictions)\n",
    "rf_results = evaluate_model(test[\"fiyat\"], rf_predictions)\n",
    "svr_results = evaluate_model(test[\"fiyat\"], svr_predictions)\n",
    "\n",
    "#sonuçları tablo halinde gösteriyoruz\n",
    "results_df = pd.DataFrame({\n",
    "    \"Model\": [\"Linear Regression\", \"Decision Tree\", \"Random Forest\", \"SVR\"],\n",
    "    \"MAE\": [lr_results[\"MAE\"], dt_results[\"MAE\"], rf_results[\"MAE\"], svr_results[\"MAE\"]],\n",
    "    \"MSE\": [lr_results[\"MSE\"], dt_results[\"MSE\"], rf_results[\"MSE\"], svr_results[\"MSE\"]],\n",
    "    \"R2\": [lr_results[\"R2\"], dt_results[\"R2\"], rf_results[\"R2\"], svr_results[\"R2\"]],\n",
    "    \"MedAE\": [lr_results[\"MedAE\"], dt_results[\"MedAE\"], rf_results[\"MedAE\"], svr_results[\"MedAE\"]]\n",
    "})\n",
    "\n",
    "# Daha okunabilir gösterim için sayısal sütunları biçimlendiriyoruz\n",
    "display_df = results_df.copy()\n",
    "num_cols = [\"MAE\", \"MSE\", \"R2\", \"MedAE\"]\n",
    "display_df[num_cols] = display_df[num_cols].applymap(lambda x: f\"{x:,.2f}\")\n",
    "\n",
    "print(display_df)"
   ]
  },
  {
   "cell_type": "code",
   "execution_count": null,
   "id": "472e389c",
   "metadata": {},
   "outputs": [],
   "source": [
    "# numpy'nin uzun çıktıları kesmemesi için\n",
    "np.set_printoptions(threshold=1000)\n",
    "\n",
    "# Her modelin tahminlerini gerçek değerlerle karşılaştıran grafik\n",
    "plt.figure(figsize=(16, 8))\n",
    "\n",
    "# Gerçek değerler\n",
    "actual = test[\"fiyat\"].values\n",
    "x_pos = np.arange(len(actual))\n",
    "\n",
    "# Bar genişliği\n",
    "bar_width = 0.15\n",
    "\n",
    "# Her model için tahminleri çiz\n",
    "plt.bar(x_pos - 1.5*bar_width, actual, bar_width, label='Gerçek Değer', color='black', alpha=0.7)\n",
    "plt.bar(x_pos - 0.5*bar_width, lr_predictions, bar_width, label='Linear Regression', color='blue', alpha=0.7)\n",
    "plt.bar(x_pos + 0.5*bar_width, dt_predictions, bar_width, label='Decision Tree', color='green', alpha=0.7)\n",
    "plt.bar(x_pos + 1.5*bar_width, rf_predictions, bar_width, label='Random Forest', color='orange', alpha=0.7)\n",
    "plt.bar(x_pos + 2.5*bar_width, svr_predictions, bar_width, label='SVR', color='red', alpha=0.7)\n",
    "\n",
    "plt.xlabel('Test Örnekleri')\n",
    "plt.ylabel('Fiyat')\n",
    "plt.title('Model Tahminlerinin Gerçek Değerlerle Karşılaştırılması')\n",
    "plt.xticks(x_pos, range(1, len(actual) + 1))\n",
    "plt.legend()\n",
    "plt.tight_layout()\n",
    "plt.show()\n"
   ]
  },
  {
   "cell_type": "code",
   "execution_count": null,
   "id": "1d8979a6",
   "metadata": {},
   "outputs": [],
   "source": [
    "#sonuçları karşılaştırarak en iyi modeli seçiyoruz\n",
    "results = {\n",
    "    \"Linear Regression\": lr_results,\n",
    "    \"Decision Tree\": dt_results,\n",
    "    \"Random Forest\": rf_results,\n",
    "    \"SVR\": svr_results\n",
    "}\n",
    "best_model = min(results, key=lambda x: results[x][\"MAE\"])\n",
    "print(\"En İyi Model:\", best_model, \"with MAE:\", results[best_model][\"MAE\"])"
   ]
  },
  {
   "cell_type": "code",
   "execution_count": null,
   "id": "9e5db112",
   "metadata": {},
   "outputs": [],
   "source": [
    "#en iyi modelin; model.intercept_,std_err ve model.coef_ değerlerini yazdırıyoruz\n",
    "\n",
    "# formatlama fonksiyonları\n",
    "fmt_float = lambda x: f\"{x:,.2f}\"\n",
    "fmt_coef = lambda x: f\"{x:,.4f}\"\n",
    "fmt_array = lambda arr, fmt=fmt_coef: \", \".join(fmt(float(v)) for v in np.atleast_1d(arr))\n",
    "\n",
    "if best_model == \"Linear Regression\":\n",
    "    print(\"En İyi Model: Linear Regression\")\n",
    "    intercept = float(lr_model.intercept_)\n",
    "    coefs = lr_model.coef_\n",
    "    # get feature names from training dataframe (preserve column order)\n",
    "    feature_names = list(train.drop(columns=[\"fiyat\", \"evNo\"]).columns)\n",
    "    residuals = lr_model.predict(train.drop(columns=[\"fiyat\", \"evNo\"])) - train[\"fiyat\"]\n",
    "    std_err = float(np.std(residuals))\n",
    "    print(\"Intercept:\", fmt_float(intercept))\n",
    "    print(\"Coefficients:\")\n",
    "    # print coefficient with sequence number and feature name for clarity (1-based index)\n",
    "    for idx, (name, c) in enumerate(zip(feature_names, coefs), start=1):\n",
    "        print(f\"  {idx}. {name}: {fmt_coef(c)}\")\n",
    "    print(\"Standard Error (train residuals):\", fmt_float(std_err))\n",
    "\n",
    "elif best_model == \"Decision Tree\":\n",
    "    print(\"En İyi Model: Decision Tree\")\n",
    "    residuals = dt_model.predict(train.drop(columns=[\"fiyat\", \"evNo\"])) - train[\"fiyat\"]\n",
    "    std_err = float(np.std(residuals))\n",
    "    print(\"Intercept: N/A for Decision Tree\")\n",
    "    print(\"Coefficients: N/A for Decision Tree\")\n",
    "    print(\"Standard Error (train residuals):\", fmt_float(std_err))\n",
    "\n",
    "elif best_model == \"Random Forest\":\n",
    "    print(\"En İyi Model: Random Forest\")\n",
    "    residuals = rf_model.predict(train.drop(columns=[\"fiyat\", \"evNo\"])) - train[\"fiyat\"]\n",
    "    std_err = float(np.std(residuals))\n",
    "    print(\"Intercept: N/A for Random Forest\")\n",
    "    print(\"Coefficients: N/A for Random Forest\")\n",
    "    print(\"Standard Error (train residuals):\", fmt_float(std_err))\n",
    "\n",
    "elif best_model == \"SVR\":\n",
    "    print(\"En İyi Model: SVR\")\n",
    "    # SVR intercept_ ve support_vectors_ olabilir\n",
    "    if hasattr(svr_model, \"intercept_\"):\n",
    "        intercepts = np.atleast_1d(svr_model.intercept_)\n",
    "        print(\"Intercept(s):\", fmt_array(intercepts, fmt=fmt_float))\n",
    "    else:\n",
    "        print(\"Intercept: N/A for SVR\")\n",
    "    if hasattr(svr_model, \"support_vectors_\"):\n",
    "        sv = svr_model.support_vectors_\n",
    "        print(\"Support vectors count:\", sv.shape[0])\n",
    "        # İlk 5 support vector'u göster\n",
    "        n_show = min(5, sv.shape[0])\n",
    "        print(f\"First {n_show} support vectors:\")\n",
    "        for i in range(n_show):\n",
    "            print(\" \", fmt_array(sv[i], fmt=fmt_coef))\n",
    "    else:\n",
    "        print(\"Support Vectors: N/A\")"
   ]
  },
  {
   "cell_type": "code",
   "execution_count": null,
   "id": "806cd0b3",
   "metadata": {},
   "outputs": [],
   "source": [
    "#model_intercept_, std_err ve model.coef_ değerlerini grafik olarak gösteriyoruz\n",
    "if best_model == \"Linear Regression\":\n",
    "    plt.figure(figsize=(10, 5))\n",
    "    coef_vals = lr_model.coef_\n",
    "    feature_names = list(train.drop(columns=[\"fiyat\", \"evNo\"]).columns)\n",
    "    # build numbered labels like '1. brutM2', '2. netM2', ... for the x-ticks\n",
    "    numbered_labels = [f\"{i+1}. {n}\" for i, n in enumerate(feature_names)]\n",
    "    plt.bar(range(len(coef_vals)), coef_vals)\n",
    "    plt.title(\"Linear Regression Coefficients\")\n",
    "    plt.xlabel(\"Feature\")\n",
    "    plt.ylabel(\"Coefficient Value\")\n",
    "    # label x-ticks with feature names and rotate for readability\n",
    "    plt.xticks(range(len(feature_names)), numbered_labels, rotation=45, ha=\"right\")\n",
    "    plt.tight_layout()\n",
    "    plt.show()\n",
    "else:\n",
    "    print(\"Coefficient plot is only available for Linear Regression model.\")"
   ]
  }
 ],
 "metadata": {
  "kernelspec": {
   "display_name": "Python 3",
   "language": "python",
   "name": "python3"
  },
  "language_info": {
   "codemirror_mode": {
    "name": "ipython",
    "version": 3
   },
   "file_extension": ".py",
   "mimetype": "text/x-python",
   "name": "python",
   "nbconvert_exporter": "python",
   "pygments_lexer": "ipython3",
   "version": "3.13.7"
  }
 },
 "nbformat": 4,
 "nbformat_minor": 5
}
