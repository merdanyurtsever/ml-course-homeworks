{
 "cells": [
  {
   "cell_type": "code",
   "execution_count": null,
   "id": "0cda08cb",
   "metadata": {},
   "outputs": [],
   "source": [
    "#gerekli kütüphaneleri indiriyoruz\n",
    "%pip install pandas scikit-learn\n",
    "%pip install matplotlib\n",
    "%pip install numpy"
   ]
  },
  {
   "cell_type": "code",
   "execution_count": null,
   "id": "605f1926",
   "metadata": {},
   "outputs": [],
   "source": [
    "#test ve train setlerimizi import ediyoruz\n",
    "import pandas as pd\n",
    "from sklearn.model_selection import train_test_split\n",
    "\n",
    "train = pd.read_csv(\"evler-train.csv\")\n",
    "test = pd.read_csv(\"evler-test.csv\")"
   ]
  },
  {
   "cell_type": "markdown",
   "id": "745a978f",
   "metadata": {},
   "source": [
    "Verilerin yapısı \"evNo,fiyat,brutM2,netM2,oda,salon,yas,kat,katMaks,dogalGaz,banyo,amerikan,balkon,asansor,otopark,esya,siteMi,aidat,guneyMi\" şeklinde."
   ]
  },
  {
   "cell_type": "code",
   "execution_count": null,
   "id": "f9ed35a6",
   "metadata": {},
   "outputs": [],
   "source": [
    "#4 farklı regresyon modeli deniyoruz\n",
    "from sklearn.linear_model import LinearRegression\n",
    "from sklearn.tree import DecisionTreeRegressor\n",
    "from sklearn.ensemble import RandomForestRegressor\n",
    "from sklearn.svm import SVR"
   ]
  },
  {
   "cell_type": "code",
   "execution_count": null,
   "id": "6f3e145f",
   "metadata": {},
   "outputs": [],
   "source": [
    "#lineer regresyon modeli\n",
    "lr_model = LinearRegression()\n",
    "lr_model.fit(train.drop(columns=[\"fiyat\", \"evNo\"]), train[\"fiyat\"])\n",
    "lr_predictions = lr_model.predict(test.drop(columns=[\"fiyat\", \"evNo\"]))"
   ]
  },
  {
   "cell_type": "code",
   "execution_count": null,
   "id": "040ce96f",
   "metadata": {},
   "outputs": [],
   "source": [
    "#DecisionTreeRegressor modeli\n",
    "dt_model = DecisionTreeRegressor()\n",
    "dt_model.fit(train.drop(columns=[\"fiyat\", \"evNo\"]), train[\"fiyat\"])\n",
    "dt_predictions = dt_model.predict(test.drop(columns=[\"fiyat\", \"evNo\"]))"
   ]
  },
  {
   "cell_type": "code",
   "execution_count": null,
   "id": "f7482823",
   "metadata": {},
   "outputs": [],
   "source": [
    "#RandomForestRegressor modeli\n",
    "rf_model = RandomForestRegressor()\n",
    "rf_model.fit(train.drop(columns=[\"fiyat\", \"evNo\"]), train[\"fiyat\"])\n",
    "rf_predictions = rf_model.predict(test.drop(columns=[\"fiyat\", \"evNo\"]))"
   ]
  },
  {
   "cell_type": "code",
   "execution_count": null,
   "id": "f3dec2dc",
   "metadata": {},
   "outputs": [],
   "source": [
    "#SVR modeli\n",
    "svr_model = SVR()\n",
    "svr_model.fit(train.drop(columns=[\"fiyat\", \"evNo\"]), train[\"fiyat\"])\n",
    "svr_predictions = svr_model.predict(test.drop(columns=[\"fiyat\", \"evNo\"]))"
   ]
  },
  {
   "cell_type": "code",
   "execution_count": null,
   "id": "b1dbcddd",
   "metadata": {},
   "outputs": [],
   "source": [
    "#4 farklı metrik ile modellerimizi değerlendiriyoruz\n",
    "from sklearn.metrics import mean_absolute_error, mean_squared_error, r2_score, median_absolute_error\n",
    "def evaluate_model(true_values, predictions):\n",
    "    mae = mean_absolute_error(true_values, predictions)\n",
    "    mse = mean_squared_error(true_values, predictions)\n",
    "    r2 = r2_score(true_values, predictions)\n",
    "    medae = median_absolute_error(true_values, predictions)\n",
    "    return {\"MAE\": mae, \"MSE\": mse, \"R2\": r2, \"MedAE\": medae}\n",
    "lr_results = evaluate_model(test[\"fiyat\"], lr_predictions)\n",
    "dt_results = evaluate_model(test[\"fiyat\"], dt_predictions)\n",
    "rf_results = evaluate_model(test[\"fiyat\"], rf_predictions)\n",
    "svr_results = evaluate_model(test[\"fiyat\"], svr_predictions)\n",
    "\n",
    "#sonuçları tablo halinde gösteriyoruz\n",
    "results_df = pd.DataFrame({\n",
    "    \"Model\": [\"Linear Regression\", \"Decision Tree\", \"Random Forest\", \"SVR\"],\n",
    "    \"MAE\": [lr_results[\"MAE\"], dt_results[\"MAE\"], rf_results[\"MAE\"], svr_results[\"MAE\"]],\n",
    "    \"MSE\": [lr_results[\"MSE\"], dt_results[\"MSE\"], rf_results[\"MSE\"], svr_results[\"MSE\"]],\n",
    "    \"R2\": [lr_results[\"R2\"], dt_results[\"R2\"], rf_results[\"R2\"], svr_results[\"R2\"]],\n",
    "    \"MedAE\": [lr_results[\"MedAE\"], dt_results[\"MedAE\"], rf_results[\"MedAE\"], svr_results[\"MedAE\"]]\n",
    "})\n",
    "print(results_df)"
   ]
  },
  {
   "cell_type": "code",
   "execution_count": null,
   "id": "472e389c",
   "metadata": {},
   "outputs": [],
   "source": [
    "#sonuçları görselleştiriyoruz\n",
    "import matplotlib.pyplot as plt\n",
    "\n",
    "plt.figure(figsize=(12, 6))\n",
    "plt.plot(test[\"fiyat\"].values, label=\"Gerçek Fiyatlar\", color=\"blue\")\n",
    "plt.plot(lr_predictions, label=\"LR Tahminleri\", color=\"red\")\n",
    "plt.plot(dt_predictions, label=\"DT Tahminleri\", color=\"green\")\n",
    "plt.plot(rf_predictions, label=\"RF Tahminleri\", color=\"orange\")\n",
    "plt.plot(svr_predictions, label=\"SVR Tahminleri\", color=\"purple\")\n",
    "plt.title(\"Gerçek ve Tahmin Edilen Fiyatlar\")\n",
    "plt.xlabel(\"Örnekler\")\n",
    "plt.ylabel(\"Fiyat\")\n",
    "plt.legend()\n",
    "plt.show()"
   ]
  },
  {
   "cell_type": "code",
   "execution_count": null,
   "id": "1d8979a6",
   "metadata": {},
   "outputs": [],
   "source": [
    "#sonuçları karşılaştırarak en iyi modeli seçiyoruz\n",
    "results = {\n",
    "    \"Linear Regression\": lr_results,\n",
    "    \"Decision Tree\": dt_results,\n",
    "    \"Random Forest\": rf_results,\n",
    "    \"SVR\": svr_results\n",
    "}\n",
    "best_model = min(results, key=lambda x: results[x][\"MAE\"])\n",
    "print(\"En İyi Model:\", best_model, \"with MAE:\", results[best_model][\"MAE\"])"
   ]
  },
  {
   "cell_type": "code",
   "execution_count": null,
   "id": "9e5db112",
   "metadata": {},
   "outputs": [],
   "source": [
    "#en iyi modelin; model.intercept_,std_err ve model.coef_ değerlerini yazdırıyoruz\n",
    "import numpy as np\n",
    "\n",
    "if best_model == \"Linear Regression\":\n",
    "    print(\"En İyi Model: Linear Regression\")\n",
    "    print(\"Intercept:\", lr_model.intercept_)\n",
    "    print(\"Coefficients:\", lr_model.coef_)\n",
    "    print(\"Standard Error:\", np.std(lr_model.predict(train.drop(columns=[\"fiyat\", \"evNo\"])) - train[\"fiyat\"]))\n",
    "elif best_model == \"Decision Tree\":\n",
    "    print(\"En İyi Model: Decision Tree\")\n",
    "    print(\"Intercept: N/A for Decision Tree\")\n",
    "    print(\"Coefficients: N/A for Decision Tree\")\n",
    "    print(\"Standard Error:\", np.std(dt_model.predict(train.drop(columns=[\"fiyat\", \"evNo\"])) - train[\"fiyat\"]))\n",
    "elif best_model == \"Random Forest\":\n",
    "    print(\"En İyi Model: Random Forest\")\n",
    "    print(\"Intercept: N/A for Random Forest\")\n",
    "    print(\"Coefficients: N/A for Random Forest\")\n",
    "    print(\"Standard Error:\", np.std(rf_model.predict(train.drop(columns=[\"fiyat\", \"evNo\"])) - train[\"fiyat\"]))\n",
    "elif best_model == \"SVR\":\n",
    "    print(\"En İyi Model: SVR\")\n",
    "    print(\"Intercept: N/A for SVR\")\n",
    "    print(\"Coefficients: N/A for SVR\")\n",
    "    print(\"Support Vectors:\", svr_model.support_vectors_)"
   ]
  }
 ],
 "metadata": {
  "kernelspec": {
   "display_name": "Python 3",
   "language": "python",
   "name": "python3"
  },
  "language_info": {
   "codemirror_mode": {
    "name": "ipython",
    "version": 3
   },
   "file_extension": ".py",
   "mimetype": "text/x-python",
   "name": "python",
   "nbconvert_exporter": "python",
   "pygments_lexer": "ipython3",
   "version": "3.13.7"
  }
 },
 "nbformat": 4,
 "nbformat_minor": 5
}
